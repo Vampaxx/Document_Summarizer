{
 "cells": [
  {
   "cell_type": "code",
   "execution_count": 2,
   "metadata": {},
   "outputs": [],
   "source": [
    "import os \n",
    "from pathlib import Path"
   ]
  },
  {
   "cell_type": "code",
   "execution_count": 3,
   "metadata": {},
   "outputs": [
    {
     "data": {
      "text/plain": [
       "'c:\\\\Users\\\\Asus\\\\vs_code\\\\Internship\\\\Document_Summarizer\\\\notebook\\\\working_progress'"
      ]
     },
     "execution_count": 3,
     "metadata": {},
     "output_type": "execute_result"
    }
   ],
   "source": [
    "%pwd"
   ]
  },
  {
   "cell_type": "code",
   "execution_count": 4,
   "metadata": {},
   "outputs": [],
   "source": [
    "os.chdir(\"../\")\n",
    "os.chdir(\"../\")"
   ]
  },
  {
   "cell_type": "code",
   "execution_count": 5,
   "metadata": {},
   "outputs": [
    {
     "data": {
      "text/plain": [
       "'c:\\\\Users\\\\Asus\\\\vs_code\\\\Internship\\\\Document_Summarizer'"
      ]
     },
     "execution_count": 5,
     "metadata": {},
     "output_type": "execute_result"
    }
   ],
   "source": [
    "%pwd"
   ]
  },
  {
   "cell_type": "code",
   "execution_count": 6,
   "metadata": {},
   "outputs": [],
   "source": [
    "from Document_Summarizer import logger\n",
    "from Document_Summarizer.pipeline.stage_03_prompt_and_chain import PromptAndChainPipeline\n",
    "from Document_Summarizer.pipeline.stage_02_data_processing import UploadFileProcessingPipeline\n",
    "\n",
    "from flask import Flask, request, render_template,redirect,url_for"
   ]
  },
  {
   "cell_type": "code",
   "execution_count": 7,
   "metadata": {},
   "outputs": [
    {
     "name": "stdout",
     "output_type": "stream",
     "text": [
      "[2024-09-23 23:28:13,977: INFO: common: yaml file: config\\config.yaml loaded successfully]\n",
      "[2024-09-23 23:28:13,978: INFO: common: yaml file: params.yaml loaded successfully]\n",
      "[2024-09-23 23:28:13,979: INFO: configuration: Upload file config initialized]\n"
     ]
    }
   ],
   "source": [
    "upload_file                     = UploadFileProcessingPipeline()\n",
    "processing,upload_file_config   = upload_file.main()"
   ]
  },
  {
   "cell_type": "code",
   "execution_count": 8,
   "metadata": {},
   "outputs": [
    {
     "data": {
      "text/plain": [
       "'upload_file/upload_docs_file.docs'"
      ]
     },
     "execution_count": 8,
     "metadata": {},
     "output_type": "execute_result"
    }
   ],
   "source": [
    "ALLOWED_EXTENSIONS  = {'pdf', 'txt', 'doc', 'docx','docs'}\n",
    "filename            = upload_file_config.docs_file_path\n",
    "filename"
   ]
  },
  {
   "cell_type": "code",
   "execution_count": 9,
   "metadata": {},
   "outputs": [],
   "source": [
    "def allowed_file(filename):\n",
    "    return '.' in filename and filename.rsplit('.', 1)[1].lower() in ALLOWED_EXTENSIONS"
   ]
  },
  {
   "cell_type": "code",
   "execution_count": 10,
   "metadata": {},
   "outputs": [
    {
     "data": {
      "text/plain": [
       "True"
      ]
     },
     "execution_count": 10,
     "metadata": {},
     "output_type": "execute_result"
    }
   ],
   "source": [
    "allowed_file(upload_file_config.pdf_file_path)"
   ]
  },
  {
   "cell_type": "code",
   "execution_count": 11,
   "metadata": {},
   "outputs": [
    {
     "data": {
      "text/plain": [
       "'docs'"
      ]
     },
     "execution_count": 11,
     "metadata": {},
     "output_type": "execute_result"
    }
   ],
   "source": [
    "filename.rsplit(\".\",1)[1].lower()"
   ]
  },
  {
   "cell_type": "code",
   "execution_count": 12,
   "metadata": {},
   "outputs": [
    {
     "data": {
      "text/plain": [
       "'upload_file/upload_pdf_file.pdf'"
      ]
     },
     "execution_count": 12,
     "metadata": {},
     "output_type": "execute_result"
    }
   ],
   "source": [
    "upload_file_config.pdf_file_path"
   ]
  },
  {
   "cell_type": "code",
   "execution_count": 14,
   "metadata": {},
   "outputs": [
    {
     "name": "stdout",
     "output_type": "stream",
     "text": [
      "upload_file/upload_pdf_file.pdf\n"
     ]
    }
   ],
   "source": [
    "filename        = upload_file_config.pdf_file_path\n",
    "file_extension  = filename.rsplit('.', 1)[1].lower()\n",
    "if file_extension == \"pdf\":\n",
    "    print(upload_file_config.pdf_file_path)"
   ]
  },
  {
   "cell_type": "code",
   "execution_count": 19,
   "metadata": {},
   "outputs": [
    {
     "data": {
      "text/plain": [
       "'752f85fd76658c8a027b39c7e7c9dfcb'"
      ]
     },
     "execution_count": 19,
     "metadata": {},
     "output_type": "execute_result"
    }
   ],
   "source": [
    "import secrets\n",
    "secrets.token_hex(16)"
   ]
  },
  {
   "cell_type": "code",
   "execution_count": null,
   "metadata": {},
   "outputs": [],
   "source": [
    "#summarize button\n",
    "\n",
    "<form action=\"/download-summary\" method=\"GET\">\n",
    "      <button type=\"submit\">Download Summary</button>\n",
    "    </form>"
   ]
  },
  {
   "cell_type": "code",
   "execution_count": null,
   "metadata": {},
   "outputs": [],
   "source": [
    "\"\"\"@app.route('/download-summary')\n",
    "def download_summary():\n",
    "    summary_output  = session.get('summary', None)\n",
    "    filename        = session.get('filename', None)\n",
    "\n",
    "    if filename and summary_output:\n",
    "        summary_file_path = os.path.join(DOWNLOAD_FOLDER, 'summary.txt')\n",
    "\n",
    "        # Save summary to a PDF (or text file for simplicity)\n",
    "        with open(summary_file_path, 'w') as f:\n",
    "            f.write(summary_output)\n",
    "        logger.info(f\"Summary saved to {summary_file_path}\")\n",
    "\n",
    "        return send_file(summary_file_path, as_attachment=True)\n",
    "    else:\n",
    "        flash('No summary available. Please upload and process a file first.')\n",
    "        return redirect('/')\"\"\""
   ]
  },
  {
   "cell_type": "code",
   "execution_count": null,
   "metadata": {},
   "outputs": [],
   "source": []
  }
 ],
 "metadata": {
  "kernelspec": {
   "display_name": "llm_env",
   "language": "python",
   "name": "python3"
  },
  "language_info": {
   "codemirror_mode": {
    "name": "ipython",
    "version": 3
   },
   "file_extension": ".py",
   "mimetype": "text/x-python",
   "name": "python",
   "nbconvert_exporter": "python",
   "pygments_lexer": "ipython3",
   "version": "3.9.19"
  }
 },
 "nbformat": 4,
 "nbformat_minor": 2
}
