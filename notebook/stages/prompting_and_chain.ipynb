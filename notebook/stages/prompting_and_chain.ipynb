{
 "cells": [
  {
   "cell_type": "code",
   "execution_count": 2,
   "metadata": {},
   "outputs": [],
   "source": [
    "from Document_Summarizer import logger \n",
    "from Document_Summarizer.utils.common import format_docs\n",
    "from Document_Summarizer.components.model import ModelSetup\n",
    "from Document_Summarizer.components.data_processing import UploadFileProcessing\n",
    "from Document_Summarizer.config.configuration import ConfigurationManager\n",
    "from Document_Summarizer.entity.config_entity import ModelConfig,UploadFileConfig\n",
    "\n",
    "from langchain_core.runnables import RunnablePassthrough\n",
    "from langchain_core.prompts import PromptTemplate\n",
    "from langchain_core.output_parsers import StrOutputParser"
   ]
  },
  {
   "cell_type": "code",
   "execution_count": 3,
   "metadata": {},
   "outputs": [],
   "source": [
    "class PromptAndChain(ModelSetup):\n",
    "\n",
    "    def __init__(self,model_config          : ModelConfig,\n",
    "                        upload_file_config  : UploadFileConfig):\n",
    "        \n",
    "        super().__init__(model_config)\n",
    "        self.upload_file_processor      = UploadFileProcessing(upload_config=upload_file_config)\n",
    "        self.llm                        = self.model_setup()\n",
    "        self.parser                     = StrOutputParser()\n",
    "\n",
    "    def prompt_and_chain(self): \n",
    "\n",
    "        logger.info(f\"Prompting and chain has started\")\n",
    "\n",
    "        summarizer_prompt = \"\"\"\n",
    "        You are an expert summarizer. Your task is twofold:\n",
    "            1. Provide a concise summary of the following text, \n",
    "            2. Highlight the key points from the text by surrounding them with double asterisks (**).\n",
    "\n",
    "        Text:\n",
    "        {document_text}\n",
    "        Summary: ensuring the summary is no longer than 500.\n",
    "        \"\"\"\n",
    "        example_prompt  = PromptTemplate(\n",
    "            input_variables = [\"document_text\"],\n",
    "            template        = summarizer_prompt)\n",
    "\n",
    "        chain = (\n",
    "            {\n",
    "                \"document_text\" : RunnablePassthrough() | format_docs\n",
    "            }\n",
    "            | example_prompt \n",
    "            | self.llm\n",
    "            | self.parser\n",
    "        )\n",
    "        return chain \n",
    "                         "
   ]
  },
  {
   "cell_type": "code",
   "execution_count": null,
   "metadata": {},
   "outputs": [],
   "source": []
  }
 ],
 "metadata": {
  "kernelspec": {
   "display_name": "llm_env",
   "language": "python",
   "name": "python3"
  },
  "language_info": {
   "codemirror_mode": {
    "name": "ipython",
    "version": 3
   },
   "file_extension": ".py",
   "mimetype": "text/x-python",
   "name": "python",
   "nbconvert_exporter": "python",
   "pygments_lexer": "ipython3",
   "version": "3.9.19"
  }
 },
 "nbformat": 4,
 "nbformat_minor": 2
}
