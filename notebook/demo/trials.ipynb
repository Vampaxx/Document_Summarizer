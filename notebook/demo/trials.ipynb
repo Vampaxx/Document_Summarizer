{
 "cells": [
  {
   "cell_type": "code",
   "execution_count": 1,
   "metadata": {},
   "outputs": [],
   "source": [
    "import io\n",
    "import os\n",
    "import random\n",
    "from pathlib import Path"
   ]
  },
  {
   "cell_type": "code",
   "execution_count": 2,
   "metadata": {},
   "outputs": [],
   "source": [
    "from dotenv import load_dotenv\n",
    "load_dotenv()\n",
    "\n",
    "os.environ[\"GROQ_API_KEY\"]     = os.getenv(\"GROQ_API_KEY\")"
   ]
  },
  {
   "cell_type": "markdown",
   "metadata": {},
   "source": [
    "## Model "
   ]
  },
  {
   "cell_type": "code",
   "execution_count": 3,
   "metadata": {},
   "outputs": [],
   "source": [
    "from langchain_groq import ChatGroq\n",
    "from dotenv import load_dotenv\n",
    "load_dotenv()\n",
    "\n",
    "GROQ_API_KEY = os.getenv('GROQ_API_KEY')\n",
    "MODEL_NAME = \"llama3-8b-8192\"\n",
    "#MODEL_NAME = \"llama3-70b-8192\"\n",
    "#MODEL_NAME  = \"mixtral-8x7b-32768\"\n",
    "\n",
    "llm = ChatGroq(model        = MODEL_NAME,\n",
    "               temperature  = 0,\n",
    "               api_key      = GROQ_API_KEY)"
   ]
  },
  {
   "cell_type": "code",
   "execution_count": 4,
   "metadata": {},
   "outputs": [],
   "source": [
    "import os\n",
    "from pathlib import Path\n"
   ]
  },
  {
   "cell_type": "code",
   "execution_count": 5,
   "metadata": {},
   "outputs": [
    {
     "data": {
      "text/plain": [
       "'directory = os.path.dirname(filename)\\nbase_name = os.path.basename(filename)'"
      ]
     },
     "execution_count": 5,
     "metadata": {},
     "output_type": "execute_result"
    }
   ],
   "source": [
    "\"\"\"directory = os.path.dirname(filename)\n",
    "base_name = os.path.basename(filename)\"\"\""
   ]
  },
  {
   "cell_type": "code",
   "execution_count": 6,
   "metadata": {},
   "outputs": [],
   "source": [
    "docx_file_path  = \"Fittlyf DS-Team_Assignment.docx\"\n",
    "pdf_file_path   = \"proof_of_concept_9.pdf\"\n",
    "text_file_path  = \"story_of_haripotter.txt\""
   ]
  },
  {
   "cell_type": "code",
   "execution_count": null,
   "metadata": {},
   "outputs": [],
   "source": []
  },
  {
   "cell_type": "code",
   "execution_count": 7,
   "metadata": {},
   "outputs": [],
   "source": [
    "from langchain.document_loaders import PyPDFLoader\n",
    "from langchain_community.document_loaders import Docx2txtLoader,TextLoader"
   ]
  },
  {
   "cell_type": "markdown",
   "metadata": {},
   "source": [
    "## Loading file"
   ]
  },
  {
   "cell_type": "code",
   "execution_count": 8,
   "metadata": {},
   "outputs": [],
   "source": [
    "def load_docs_file(file_path: str):\n",
    "    \n",
    "    new_file_path   = file_path.replace(\" \",\"_\").replace(\"-\",\"_\")\n",
    "    os.rename(file_path,new_file_path) \n",
    "    docs            = Docx2txtLoader(new_file_path).load() \n",
    "    return docs  \n",
    "\n",
    "def load_pdf_file(file_path: str):\n",
    "\n",
    "    new_file_path   = file_path.replace(\" \",\"_\").replace(\"-\",\"_\")\n",
    "    os.rename(file_path,new_file_path) \n",
    "    pdf = PyPDFLoader(new_file_path).load()\n",
    "    return pdf \n",
    "\n",
    "def load__txt_file(file_path:str):\n",
    "    new_file_path   = file_path.replace(\" \",\"_\").replace(\"-\",\"_\")\n",
    "    os.rename(file_path,new_file_path) \n",
    "    text            = TextLoader(new_file_path).load_and_split()\n",
    "    return text "
   ]
  },
  {
   "cell_type": "code",
   "execution_count": 9,
   "metadata": {},
   "outputs": [],
   "source": [
    "new_file_path   = pdf_file_path.replace(\" \",\"_\").replace(\"-\",\"_\")\n",
    "os.rename(pdf_file_path,new_file_path) \n",
    "pdf = PyPDFLoader(new_file_path).load_and_split()"
   ]
  },
  {
   "cell_type": "markdown",
   "metadata": {},
   "source": [
    "## Formating"
   ]
  },
  {
   "cell_type": "code",
   "execution_count": 10,
   "metadata": {},
   "outputs": [],
   "source": [
    "def format_docs(docs):\n",
    "  return \"\\n\\n\".join(doc.page_content for doc in docs)"
   ]
  },
  {
   "cell_type": "markdown",
   "metadata": {},
   "source": [
    "## Prompting"
   ]
  },
  {
   "cell_type": "code",
   "execution_count": 11,
   "metadata": {},
   "outputs": [],
   "source": [
    "from langchain_core.prompts import PromptTemplate\n",
    "from langchain_core.output_parsers import StrOutputParser,PydanticOutputParser"
   ]
  },
  {
   "cell_type": "code",
   "execution_count": 12,
   "metadata": {},
   "outputs": [],
   "source": [
    "parser  = StrOutputParser()\n",
    "prompt  = PromptTemplate(\n",
    "    template = \"\"\"\n",
    "    You are an expert summarizer. Your task is twofold:\n",
    "    1. Provide a concise summary of the following text, \n",
    "    2. Highlight the key points from the text by surrounding them with double asterisks (**).\n",
    "\n",
    "    Text:\n",
    "    {document_text}\n",
    "    Summary: ensuring the summary is no longer than 500 tokens.\n",
    "    \"\"\",\n",
    "    input_variables   = [\"document_text\"],)"
   ]
  },
  {
   "cell_type": "code",
   "execution_count": 13,
   "metadata": {},
   "outputs": [],
   "source": [
    "from langchain_core.runnables import RunnableAssign,RunnableLambda,RunnablePassthrough"
   ]
  },
  {
   "cell_type": "code",
   "execution_count": 14,
   "metadata": {},
   "outputs": [],
   "source": [
    "chain = (\n",
    "    {\n",
    "    \"document_text\" : RunnablePassthrough() | format_docs\n",
    "    }\n",
    "| prompt\n",
    "| llm \n",
    "| parser\n",
    ")"
   ]
  },
  {
   "cell_type": "code",
   "execution_count": 18,
   "metadata": {},
   "outputs": [
    {
     "data": {
      "text/plain": [
       "langchain_groq.chat_models.ChatGroq"
      ]
     },
     "execution_count": 18,
     "metadata": {},
     "output_type": "execute_result"
    }
   ],
   "source": [
    "type(llm)"
   ]
  },
  {
   "cell_type": "code",
   "execution_count": 28,
   "metadata": {},
   "outputs": [],
   "source": [
    "response = chain.invoke(pdf) "
   ]
  },
  {
   "cell_type": "code",
   "execution_count": 29,
   "metadata": {},
   "outputs": [
    {
     "name": "stdout",
     "output_type": "stream",
     "text": [
      "**Summary:**\n",
      "\n",
      "The project aims to develop an AI-driven digital marketing solution that recommends and formulates optimal campaign parameters on platforms like Google and Facebook. The system will analyze historical campaign data, understand client objectives, and generate optimized campaign parameters to achieve specific outcomes such as increased sales conversions or lead generation.\n",
      "\n",
      "**Key Points:**\n",
      "\n",
      "**1. Recommendation System Development:** Design and implement an advanced recommendation system leveraging artificial intelligence to analyze historical campaign data and identify patterns, correlations, and critical factors influencing campaign success.\n",
      "\n",
      "**2. Client Objective Understanding:** Develop a system to comprehend client requirements by creating a mechanism to interpret and assimilate client objectives effectively, extracting meaningful insights from client input to tailor campaigns accordingly.\n",
      "\n",
      "**3. Optimized Campaign Parameter Generation:** Implement functionality to generate optimized digital marketing campaign parameters, dynamically adjusting campaign elements based on insights derived from historical data analysis and client objectives.\n",
      "\n",
      "**4. Real-time Performance Monitoring:** Develop a real-time monitoring mechanism to track campaign performance, providing immediate insights into campaign success against predefined goals, allowing for timely intervention in underperforming campaigns.\n",
      "\n",
      "**5. Cross-Platform Adaptability:** Address the challenge of cross-platform consistency by incorporating platform-specific optimization, ensuring campaigns are not only effective overall but also optimized for each platform's nuances.\n",
      "\n",
      "**Evaluation Methods:**\n",
      "\n",
      "1. Performance Metrics: Track key performance indicators aligned with desired outcomes, such as conversion rate, lead generation, and return on investment (ROI).\n",
      "2. A/B Testing: Conduct A/B testing to compare the performance of AI-recommended campaigns against control groups using traditional methods or variations in campaign parameters.\n",
      "3. Continuous Improvement: Implement necessary improvements to the system based on evaluation results, including re-training AI models, refining recommendation algorithms, and enhancing user interface and reporting functionalities.\n",
      "\n",
      "**Resources:**\n",
      "\n",
      "1. Data Engineer: Collaborate with data scientists and software developers to understand requirements and implement solutions.\n",
      "2. Data Analyst: Develop analytics solutions to support business analytics and measure and improve ongoing performance.\n",
      "3. AI/ML Engineer: Design, develop, and maintain deep learning/ML models, particularly focused on NLP, LSTM.\n",
      "4. Full-Stack Developer: Manage the complete software development process from conception to deployment.\n",
      "5. UI/UX Designer: Design and develop user interfaces and user experiences for the system.\n",
      "6. Quality Assurance (QA) Analyst: Test and debug the system to ensure it meets requirements and is free from defects.\n"
     ]
    }
   ],
   "source": [
    "print(response)"
   ]
  },
  {
   "cell_type": "code",
   "execution_count": 32,
   "metadata": {},
   "outputs": [
    {
     "data": {
      "text/plain": [
       "351"
      ]
     },
     "execution_count": 32,
     "metadata": {},
     "output_type": "execute_result"
    }
   ],
   "source": [
    "len(response.split(\" \"))"
   ]
  },
  {
   "cell_type": "code",
   "execution_count": null,
   "metadata": {},
   "outputs": [],
   "source": []
  },
  {
   "cell_type": "code",
   "execution_count": null,
   "metadata": {},
   "outputs": [],
   "source": []
  },
  {
   "cell_type": "code",
   "execution_count": null,
   "metadata": {},
   "outputs": [],
   "source": []
  },
  {
   "cell_type": "code",
   "execution_count": null,
   "metadata": {},
   "outputs": [],
   "source": []
  },
  {
   "cell_type": "code",
   "execution_count": null,
   "metadata": {},
   "outputs": [],
   "source": []
  },
  {
   "cell_type": "code",
   "execution_count": null,
   "metadata": {},
   "outputs": [],
   "source": []
  },
  {
   "cell_type": "code",
   "execution_count": null,
   "metadata": {},
   "outputs": [],
   "source": []
  },
  {
   "cell_type": "code",
   "execution_count": null,
   "metadata": {},
   "outputs": [],
   "source": []
  },
  {
   "cell_type": "code",
   "execution_count": null,
   "metadata": {},
   "outputs": [],
   "source": []
  },
  {
   "cell_type": "code",
   "execution_count": null,
   "metadata": {},
   "outputs": [],
   "source": []
  }
 ],
 "metadata": {
  "kernelspec": {
   "display_name": "llm_env",
   "language": "python",
   "name": "python3"
  },
  "language_info": {
   "codemirror_mode": {
    "name": "ipython",
    "version": 3
   },
   "file_extension": ".py",
   "mimetype": "text/x-python",
   "name": "python",
   "nbconvert_exporter": "python",
   "pygments_lexer": "ipython3",
   "version": "3.9.19"
  }
 },
 "nbformat": 4,
 "nbformat_minor": 2
}
